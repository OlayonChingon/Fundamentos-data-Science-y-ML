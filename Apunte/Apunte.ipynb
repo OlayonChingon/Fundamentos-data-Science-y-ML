{
 "cells": [
  {
   "cell_type": "markdown",
   "id": "c8bb210e-7da0-460d-afa2-dd44343d460a",
   "metadata": {},
   "source": [
    "## Apunte Fundamentos Data Science y ML"
   ]
  },
  {
   "cell_type": "markdown",
   "id": "6de05ff2-9e6d-44f5-80fc-4dec82348ee0",
   "metadata": {},
   "source": [
    "![image](src/1.JPG)"
   ]
  },
  {
   "cell_type": "markdown",
   "id": "c1799b9c-4928-47c9-948d-a1c82baa21eb",
   "metadata": {},
   "source": [
    "### La ciencia de datos, o data science en inglés, es un campo interdisciplinario que combina técnicas estadísticas, matemáticas y de programación para extraer conocimiento y obtener información valiosa a partir de conjuntos de datos. Se basa en la recopilación, limpieza, procesamiento y análisis de grandes volúmenes de datos con el objetivo de descubrir patrones, tendencias o relaciones que puedan ayudar a tomar decisiones informadas y resolver problemas complejos."
   ]
  },
  {
   "cell_type": "markdown",
   "id": "4dfa7217-4de3-4fe5-b0c6-c4d022373bcc",
   "metadata": {},
   "source": [
    "![image](src/2.JPG)"
   ]
  },
  {
   "cell_type": "markdown",
   "id": "fae0e52c-6a55-4667-87fc-35ee6ae9775a",
   "metadata": {},
   "source": [
    "![image](src/3.JPG)"
   ]
  },
  {
   "cell_type": "markdown",
   "id": "97fb773c-1584-4a81-8116-7b615dc30503",
   "metadata": {},
   "source": [
    "![image](src/4.JPG)"
   ]
  },
  {
   "cell_type": "markdown",
   "id": "dcbde37e-9337-4d83-9909-f394e6116d8e",
   "metadata": {},
   "source": [
    "Para la mayoria de las empresas seria suficiente llegar hasta la Exploracion, analisis y visualizacion de los datos para hallar los patrones\n",
    "de comportamiento buscados\n",
    "Sin embargo podemos usar modelos de machine learning para predecir informacion, Cuarto paso en nuestro grafico.\n",
    "Tambien podemos escalar estos madelos, ponerlos a disposicion del usuario final. "
   ]
  },
  {
   "cell_type": "markdown",
   "id": "e20d133f-02d8-44d4-97fa-a98515a07a58",
   "metadata": {},
   "source": [
    "![image](src/5.JPG)"
   ]
  },
  {
   "cell_type": "markdown",
   "id": "c45d6a59-c3a9-4800-83d2-48aa28ad518d",
   "metadata": {},
   "source": [
    "Lo mas importante es tener en claro la pregunta respecto al conjunto de datos y dominio de la tematica analizada"
   ]
  },
  {
   "cell_type": "markdown",
   "id": "5e9bae9a-686c-4b2d-9e38-ff1c9b039ba7",
   "metadata": {},
   "source": [
    "![image](src/6.JPG)"
   ]
  },
  {
   "cell_type": "markdown",
   "id": "dacd251b-5582-4ef4-8f13-7531f4be3af0",
   "metadata": {},
   "source": [
    "Data Science abarca un conjunto de saberes Probramacion, estadistica (principalmente medidas de tendencia central), Conocimiento del dominio de la industria dedicada a la que aplicamos ciencia de datos educacion, Finanzas, IoT etc...."
   ]
  },
  {
   "cell_type": "markdown",
   "id": "d72ef58d-e7a8-4dbd-b161-f742f380548e",
   "metadata": {},
   "source": [
    "## Inteligencia Artificial"
   ]
  },
  {
   "cell_type": "markdown",
   "id": "94818f30-fec1-4ca8-9fdf-c8424941b107",
   "metadata": {},
   "source": [
    "![image](src/17.JPG)"
   ]
  },
  {
   "cell_type": "markdown",
   "id": "a12f483d-062c-41e7-9421-479db16834ac",
   "metadata": {},
   "source": [
    "![image](src/7.JPG)"
   ]
  },
  {
   "cell_type": "markdown",
   "id": "41ce2e1b-35f0-411c-bcb1-8fc6e0899e7a",
   "metadata": {},
   "source": [
    "![image](src/8.JPG)"
   ]
  },
  {
   "cell_type": "markdown",
   "id": "c8a80c8f-361a-442b-98c9-c6d1600ce6bb",
   "metadata": {},
   "source": [
    "Emulacion de como vemos, como escuchamos, como razonamos reconociendo **PATRONES** *en grande cantidades de datos, como ser archivos de texto, imagenes, audio etc...*"
   ]
  },
  {
   "cell_type": "markdown",
   "id": "91043d10-2813-4e97-9b44-94b6f8c25567",
   "metadata": {},
   "source": [
    "## Usos de la IA"
   ]
  },
  {
   "cell_type": "markdown",
   "id": "6369a3ea-c387-483a-86a8-cef1ccb57ec1",
   "metadata": {},
   "source": [
    "![image](src/15.JPG)"
   ]
  },
  {
   "cell_type": "markdown",
   "id": "86170d03-a7a8-4a8c-a3ca-ecd7f3b0040e",
   "metadata": {},
   "source": [
    "### Machine Learning o Aprendizaje Automatico"
   ]
  },
  {
   "cell_type": "markdown",
   "id": "ae2efbe2-491a-482c-b8d7-a0a00616cd83",
   "metadata": {},
   "source": [
    "Machine learning es una de las ramas de la Inteligencia  Artificial por medio del cual ENTRENAMOS un ALGORITMO con Datos de Entrenamiento(X_train y y_train), **generando un modelo capaz de hacer predicciones con nuevos datos de Entrada** (X_test). Dichas predicciones son **Evaluadas** con ETIQUETAS, que no son mas que las salidas correctas previamente observadas a las cuales deberia llegar la prediccion del modelo. De esta manera se generar metricas que nos dan una idea de lo exactitud del modelo generado "
   ]
  },
  {
   "cell_type": "markdown",
   "id": "32ebbe00-3823-476c-8299-aa0031724fbe",
   "metadata": {},
   "source": [
    "![image](src/9.JPG)"
   ]
  },
  {
   "cell_type": "markdown",
   "id": "961048ea-60a6-4a8b-9a8c-e50dee0debe7",
   "metadata": {},
   "source": [
    "### **En el proceso de Machine Learning es muy importante que los datos con que se entrna al algoritmo (Datos de entrenamiento o X_train) sean distinto de los datos de Entrada (datos con los que se realizan las predicciones o y_train )** "
   ]
  },
  {
   "cell_type": "markdown",
   "id": "7f020178-8b20-4fcf-b66e-fe3d20e580b1",
   "metadata": {},
   "source": [
    "Por ello en todo proceso de Mchine Learning en python dividimos los datos primero en caracteristicas y etiquetas , luego en datos de entrenamiento y datos de testeo"
   ]
  },
  {
   "cell_type": "markdown",
   "id": "bd66247a-7ccb-4d7c-b44f-b3474d86c8f9",
   "metadata": {},
   "source": [
    "![image](src/16.JPG)"
   ]
  },
  {
   "cell_type": "markdown",
   "id": "ccfcf90f-4e80-47d4-9405-ee322f0502c1",
   "metadata": {},
   "source": [
    "![image](src/10.JPG)"
   ]
  },
  {
   "cell_type": "markdown",
   "id": "55873382-c92a-44dd-9e97-011f89db505a",
   "metadata": {},
   "source": [
    "### Ciencia de datos y Maching Learning trabajan juntos"
   ]
  },
  {
   "cell_type": "markdown",
   "id": "021e5beb-bdbf-477c-8420-ac09442a35a2",
   "metadata": {},
   "source": [
    "![image](src/11.JPG)"
   ]
  },
  {
   "cell_type": "markdown",
   "id": "c0cabd68-b03e-4f84-bd47-f6c29e844e9d",
   "metadata": {},
   "source": [
    "Pero que seria la **validacion del Modelo**. Bueno una vez que generamos el modelo co X_train , y_train ; Para luego generar las predicciones con X_test , y_test que nos permiten elaborar las metricas de evaluacion. Procedemos a La validacion **esta se realiza con un conjunto de datos diferente**"
   ]
  },
  {
   "cell_type": "markdown",
   "id": "4d1c4436-deab-4228-b92a-5ff2cfa4fd3b",
   "metadata": {},
   "source": [
    "### Siempre debemos tener claro que Data Science e Inteligencia Artificial son dos saberes distintos que trabajan mancomunadamente"
   ]
  },
  {
   "cell_type": "markdown",
   "id": "f7b1961a-e1ec-4c46-8936-759ec3bcd058",
   "metadata": {},
   "source": [
    "![image](src/12.JPG)"
   ]
  },
  {
   "cell_type": "markdown",
   "id": "7070ef72-39b0-42b6-977c-db32662821b2",
   "metadata": {},
   "source": [
    "![image](src/13.JPG)"
   ]
  },
  {
   "cell_type": "code",
   "execution_count": null,
   "id": "f9409843-7854-4b09-b886-8c79fb23e7d0",
   "metadata": {},
   "outputs": [],
   "source": []
  }
 ],
 "metadata": {
  "kernelspec": {
   "display_name": "Python 3 (ipykernel)",
   "language": "python",
   "name": "python3"
  },
  "language_info": {
   "codemirror_mode": {
    "name": "ipython",
    "version": 3
   },
   "file_extension": ".py",
   "mimetype": "text/x-python",
   "name": "python",
   "nbconvert_exporter": "python",
   "pygments_lexer": "ipython3",
   "version": "3.10.10"
  }
 },
 "nbformat": 4,
 "nbformat_minor": 5
}
