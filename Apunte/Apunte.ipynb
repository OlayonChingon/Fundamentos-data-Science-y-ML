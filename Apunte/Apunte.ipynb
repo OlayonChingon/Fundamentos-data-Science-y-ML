{
 "cells": [
  {
   "cell_type": "markdown",
   "id": "c8bb210e-7da0-460d-afa2-dd44343d460a",
   "metadata": {},
   "source": [
    "## Apunte Fundamentos Data Science y ML"
   ]
  },
  {
   "cell_type": "code",
   "execution_count": null,
   "id": "8e5b8f8d-9fe5-4a9a-b2f1-8b6c21ece2fc",
   "metadata": {},
   "outputs": [],
   "source": [
    "![image](src/1.JPG)"
   ]
  },
  {
   "cell_type": "markdown",
   "id": "c1799b9c-4928-47c9-948d-a1c82baa21eb",
   "metadata": {},
   "source": [
    "### La ciencia de datos, o data science en inglés, es un campo interdisciplinario que combina técnicas estadísticas, matemáticas y de programación para extraer conocimiento y obtener información valiosa a partir de conjuntos de datos. Se basa en la recopilación, limpieza, procesamiento y análisis de grandes volúmenes de datos con el objetivo de descubrir patrones, tendencias o relaciones que puedan ayudar a tomar decisiones informadas y resolver problemas complejos."
   ]
  },
  {
   "cell_type": "markdown",
   "id": "4dfa7217-4de3-4fe5-b0c6-c4d022373bcc",
   "metadata": {},
   "source": [
    "![image](src/2.JPG)"
   ]
  },
  {
   "cell_type": "markdown",
   "id": "fae0e52c-6a55-4667-87fc-35ee6ae9775a",
   "metadata": {},
   "source": [
    "![image](src/3.JPG)"
   ]
  },
  {
   "cell_type": "markdown",
   "id": "97fb773c-1584-4a81-8116-7b615dc30503",
   "metadata": {},
   "source": [
    "![image](src/4.JPG)"
   ]
  },
  {
   "cell_type": "markdown",
   "id": "dcbde37e-9337-4d83-9909-f394e6116d8e",
   "metadata": {},
   "source": [
    "Para la mayoria de las empresas seria suficiente llegar hasta la Exploracion, analisis y visualizacion de los datos para hallar los patrones\n",
    "de comportamiento buscados\n",
    "Sin embargo podemos usar modelos de machine learning para predecir informacion, Cuarto paso en nuestro grafico.\n",
    "Tambien podemos escalar estos madelos, ponerlos a disposicion del usuario final. "
   ]
  },
  {
   "cell_type": "markdown",
   "id": "e20d133f-02d8-44d4-97fa-a98515a07a58",
   "metadata": {},
   "source": [
    "![image](src/5.JPG)"
   ]
  },
  {
   "cell_type": "markdown",
   "id": "c45d6a59-c3a9-4800-83d2-48aa28ad518d",
   "metadata": {},
   "source": [
    "Lo mas importante es tener en claro la pregunta respecto al conjunto de datos y dominio de la tematica analizada"
   ]
  },
  {
   "cell_type": "markdown",
   "id": "5e9bae9a-686c-4b2d-9e38-ff1c9b039ba7",
   "metadata": {},
   "source": [
    "![image](src/6.JPG)"
   ]
  },
  {
   "cell_type": "markdown",
   "id": "dacd251b-5582-4ef4-8f13-7531f4be3af0",
   "metadata": {},
   "source": [
    "Data Science abarca un conjunto de saberes Probramacion, estadistica (principalmente medidas de tendencia central), Conocimiento del dominio de la industria dedicada a la que aplicamos ciencia de datos educacion, Finanzas, IoT etc...."
   ]
  },
  {
   "cell_type": "code",
   "execution_count": null,
   "id": "e7d38359-d3ac-43c9-802b-1f797f368509",
   "metadata": {},
   "outputs": [],
   "source": []
  }
 ],
 "metadata": {
  "kernelspec": {
   "display_name": "Python 3 (ipykernel)",
   "language": "python",
   "name": "python3"
  },
  "language_info": {
   "codemirror_mode": {
    "name": "ipython",
    "version": 3
   },
   "file_extension": ".py",
   "mimetype": "text/x-python",
   "name": "python",
   "nbconvert_exporter": "python",
   "pygments_lexer": "ipython3",
   "version": "3.10.10"
  }
 },
 "nbformat": 4,
 "nbformat_minor": 5
}
